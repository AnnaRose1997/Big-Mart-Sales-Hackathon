{
 "cells": [
  {
   "cell_type": "code",
   "execution_count": 6,
   "id": "fc4d097d",
   "metadata": {},
   "outputs": [],
   "source": [
    "import pandas as pd\n",
    "import matplotlib.pyplot as plt\n",
    "import seaborn as sns\n",
    "from catboost import CatBoostRegressor, Pool\n",
    "import numpy as np"
   ]
  },
  {
   "cell_type": "code",
   "execution_count": 7,
   "id": "dd62e85d",
   "metadata": {},
   "outputs": [],
   "source": [
    "sales_data = pd.read_csv(\"train_v9rqX0R.csv\")\n",
    "validation_data = pd.read_csv(\"test_AbJTz2l.csv\")"
   ]
  },
  {
   "cell_type": "code",
   "execution_count": 8,
   "id": "eb343b32",
   "metadata": {},
   "outputs": [
    {
     "name": "stdout",
     "output_type": "stream",
     "text": [
      "Categorical Columns: ['Outlet_Type', 'Outlet_Identifier', 'Outlet_Location_Type']\n"
     ]
    }
   ],
   "source": [
    "sales_data = sales_data[[\"Item_MRP\",\"Outlet_Type\", \"Outlet_Identifier\", \"Item_Outlet_Sales\", \"Outlet_Location_Type\"]]\n",
    "categorical_cols = sales_data.select_dtypes(include=['object', 'category']).columns.tolist()\n",
    "print(\"Categorical Columns:\", categorical_cols)"
   ]
  },
  {
   "cell_type": "code",
   "execution_count": 9,
   "id": "44a28e2b",
   "metadata": {},
   "outputs": [],
   "source": [
    "X_train = sales_data.drop(['Item_Outlet_Sales'], axis=1)\n",
    "y_train = sales_data['Item_Outlet_Sales']"
   ]
  },
  {
   "cell_type": "code",
   "execution_count": 10,
   "id": "0c3805a6",
   "metadata": {},
   "outputs": [
    {
     "data": {
      "text/plain": [
       "<catboost.core.CatBoostRegressor at 0x2617ec51890>"
      ]
     },
     "execution_count": 10,
     "metadata": {},
     "output_type": "execute_result"
    }
   ],
   "source": [
    "# initialize the model\n",
    "cat_model = CatBoostRegressor(iterations=1000, learning_rate=0.01, depth=6,\\\n",
    "                          loss_function='RMSE' ,cat_features=list(categorical_cols),nan_mode='Min')\n",
    "\n",
    "cat_model.fit(\n",
    "    X_train, \n",
    "    y_train.values.ravel(),\n",
    "    logging_level='Silent',\n",
    ")\n",
    "\n"
   ]
  },
  {
   "cell_type": "code",
   "execution_count": 11,
   "id": "c8b67be9",
   "metadata": {},
   "outputs": [],
   "source": [
    "# TESTING ON VALIDATION DATA"
   ]
  },
  {
   "cell_type": "code",
   "execution_count": 12,
   "id": "b5ce77c7",
   "metadata": {},
   "outputs": [],
   "source": [
    "id_column = validation_data[['Item_Identifier', 'Outlet_Identifier']]\n",
    "validation_data = validation_data[[\"Item_MRP\",\"Outlet_Type\", \"Outlet_Identifier\", \"Outlet_Location_Type\"]]\n",
    "\n"
   ]
  },
  {
   "cell_type": "code",
   "execution_count": 13,
   "id": "a20f53d0",
   "metadata": {},
   "outputs": [],
   "source": [
    "y_pred = cat_model.predict(validation_data)"
   ]
  },
  {
   "cell_type": "code",
   "execution_count": 14,
   "id": "094ad658",
   "metadata": {},
   "outputs": [
    {
     "name": "stdout",
     "output_type": "stream",
     "text": [
      "  Item_Identifier Outlet_Identifier  Predicted_Sales\n",
      "0           FDW58            OUT049      1752.189168\n",
      "1           FDW14            OUT017      1416.520863\n",
      "2           NCN55            OUT010       591.527035\n",
      "3           FDQ58            OUT017      2554.324758\n",
      "4           FDY38            OUT027      6114.609366\n"
     ]
    }
   ],
   "source": [
    "id_column_reset = id_column.reset_index(drop=True)\n",
    "\n",
    "predictions = pd.DataFrame({\n",
    "    'Item_Identifier': id_column_reset['Item_Identifier'],\n",
    "    'Outlet_Identifier': id_column_reset['Outlet_Identifier'],\n",
    "    'Predicted_Sales': y_pred\n",
    "})\n",
    "\n",
    "print(predictions.head())\n",
    "predictions.columns = [\"Item_Identifier\",\"Outlet_Identifier\", \"Item_Outlet_Sales\" ]\n",
    "predictions.to_csv(\"prediction_catboost.csv\")"
   ]
  },
  {
   "cell_type": "code",
   "execution_count": 15,
   "id": "645810f2",
   "metadata": {},
   "outputs": [],
   "source": [
    "# RANK 171"
   ]
  }
 ],
 "metadata": {
  "kernelspec": {
   "display_name": "Python 3",
   "language": "python",
   "name": "python3"
  },
  "language_info": {
   "codemirror_mode": {
    "name": "ipython",
    "version": 3
   },
   "file_extension": ".py",
   "mimetype": "text/x-python",
   "name": "python",
   "nbconvert_exporter": "python",
   "pygments_lexer": "ipython3",
   "version": "3.11.0"
  }
 },
 "nbformat": 4,
 "nbformat_minor": 5
}
