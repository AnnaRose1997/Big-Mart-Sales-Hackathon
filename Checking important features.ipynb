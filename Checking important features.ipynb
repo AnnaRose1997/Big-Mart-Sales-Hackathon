{
 "cells": [
  {
   "cell_type": "code",
   "execution_count": null,
   "id": "fc4d097d",
   "metadata": {},
   "outputs": [],
   "source": [
    "import pandas as pd\n",
    "import numpy as np\n",
    "from catboost import CatBoostRegressor, Pool"
   ]
  },
  {
   "cell_type": "code",
   "execution_count": 2,
   "id": "dd62e85d",
   "metadata": {},
   "outputs": [],
   "source": [
    "sales_data = pd.read_csv(\"train_v9rqX0R.csv\")\n",
    "validation_data = pd.read_csv(\"test_AbJTz2l.csv\")"
   ]
  },
  {
   "cell_type": "code",
   "execution_count": 3,
   "id": "32a48265",
   "metadata": {},
   "outputs": [],
   "source": [
    "#Feature Engineering\n",
    "\n",
    "sales_data['Outlet_Age'] = 2025 - sales_data['Outlet_Establishment_Year']\n",
    "sales_data['Item_Visibility'] = sales_data['Item_Visibility']*100\n",
    "sales_data['Item_Fat_Content'] = sales_data['Item_Fat_Content'].replace({\n",
    "    'low fat': 'Low Fat',\n",
    "    'LF': 'Low Fat',\n",
    "    'reg': 'Regular'\n",
    "})\n"
   ]
  },
  {
   "cell_type": "code",
   "execution_count": 4,
   "id": "cc0a15e0",
   "metadata": {},
   "outputs": [
    {
     "name": "stdout",
     "output_type": "stream",
     "text": [
      "Categorical Columns: ['Item_Identifier', 'Item_Fat_Content', 'Item_Type', 'Outlet_Identifier', 'Outlet_Size', 'Outlet_Location_Type', 'Outlet_Type']\n"
     ]
    }
   ],
   "source": [
    "categorical_cols = sales_data.select_dtypes(include=['object', 'category']).columns.tolist()\n",
    "print(\"Categorical Columns:\", categorical_cols)"
   ]
  },
  {
   "cell_type": "code",
   "execution_count": 5,
   "id": "adadab7d",
   "metadata": {},
   "outputs": [],
   "source": [
    "\n",
    "def impute_outlet_size(row):\n",
    "    if pd.isna(row['Outlet_Size']) or row['Outlet_Size'] == 'Missing':\n",
    "        year = row['Outlet_Establishment_Year']\n",
    "        otype = row['Outlet_Type']\n",
    "        loc = row['Outlet_Location_Type']\n",
    "        \n",
    "        if year == 1987:\n",
    "            return 'High'\n",
    "        elif otype == 'Supermarket Type3':\n",
    "            return 'Medium'\n",
    "        elif otype == 'Grocery Store':\n",
    "            return 'Small'\n",
    "        elif loc == 'Tier 2':\n",
    "            return 'Small'\n",
    "        elif year in [1997, 2004]:\n",
    "            return 'Small'\n",
    "        elif year in [1999, 2009]:\n",
    "            return 'Medium'\n",
    "        elif year == 1985:\n",
    "            if otype == 'Supermarket Type1':\n",
    "                return 'Medium'\n",
    "            elif otype == 'Grocery Store':\n",
    "                return 'Small'\n",
    "    else:\n",
    "        return row['Outlet_Size']\n",
    "    \n",
    "sales_data['Outlet_Size'] = sales_data.apply(impute_outlet_size, axis=1)\n",
    "\n",
    "# Replace missing Item_Weight values with the mean weight of the corresponding Item_Identifier\n",
    "sales_data['Item_Weight'] = sales_data.groupby('Item_Identifier')['Item_Weight'].transform(lambda x: x.fillna(x.mean()))\n",
    "sales_data['Item_Weight'] = sales_data.groupby('Item_Type')['Item_Weight'].transform(lambda x: x.fillna(x.mean()))\n",
    "sales_data = sales_data.drop([\"Outlet_Establishment_Year\"], axis = 1)\n"
   ]
  },
  {
   "cell_type": "code",
   "execution_count": 6,
   "id": "874965a2",
   "metadata": {},
   "outputs": [
    {
     "data": {
      "text/plain": [
       "0"
      ]
     },
     "execution_count": 6,
     "metadata": {},
     "output_type": "execute_result"
    }
   ],
   "source": [
    "sales_data.Item_Weight.isna().sum()"
   ]
  },
  {
   "cell_type": "code",
   "execution_count": 7,
   "id": "c28df358",
   "metadata": {},
   "outputs": [
    {
     "data": {
      "text/plain": [
       "0"
      ]
     },
     "execution_count": 7,
     "metadata": {},
     "output_type": "execute_result"
    }
   ],
   "source": [
    "sales_data.Outlet_Size.isna().sum()"
   ]
  },
  {
   "cell_type": "code",
   "execution_count": 8,
   "id": "eb343b32",
   "metadata": {},
   "outputs": [
    {
     "name": "stdout",
     "output_type": "stream",
     "text": [
      "Categorical Columns: ['Item_Identifier', 'Item_Fat_Content', 'Item_Type', 'Outlet_Identifier', 'Outlet_Size', 'Outlet_Location_Type', 'Outlet_Type']\n"
     ]
    }
   ],
   "source": [
    "categorical_cols = sales_data.select_dtypes(include=['object', 'category']).columns.tolist()\n",
    "print(\"Categorical Columns:\", categorical_cols)"
   ]
  },
  {
   "cell_type": "code",
   "execution_count": 9,
   "id": "44a28e2b",
   "metadata": {},
   "outputs": [],
   "source": [
    "X_train = sales_data.drop(['Item_Outlet_Sales'], axis=1)\n",
    "y_train = sales_data['Item_Outlet_Sales']"
   ]
  },
  {
   "cell_type": "code",
   "execution_count": 10,
   "id": "0c3805a6",
   "metadata": {},
   "outputs": [
    {
     "data": {
      "text/plain": [
       "<catboost.core.CatBoostRegressor at 0x1b277bf7310>"
      ]
     },
     "execution_count": 10,
     "metadata": {},
     "output_type": "execute_result"
    }
   ],
   "source": [
    "# initialize the model\n",
    "cat_model = CatBoostRegressor(iterations=1000, learning_rate=0.01, depth=6,\\\n",
    "                          loss_function='RMSE' ,cat_features=list(categorical_cols),nan_mode='Min')\n",
    "\n",
    "cat_model.fit(\n",
    "    X_train, \n",
    "    y_train.values.ravel(),\n",
    "    logging_level='Silent',\n",
    ")\n",
    "\n"
   ]
  },
  {
   "cell_type": "code",
   "execution_count": 11,
   "id": "c8b67be9",
   "metadata": {},
   "outputs": [],
   "source": [
    "# TESTING ON VALIDATION DATA"
   ]
  },
  {
   "cell_type": "code",
   "execution_count": 12,
   "id": "b5ce77c7",
   "metadata": {},
   "outputs": [],
   "source": [
    "id_column = validation_data[['Item_Identifier', 'Outlet_Identifier']]\n",
    "validation_data['Outlet_Age'] = 2025 - validation_data['Outlet_Establishment_Year']\n",
    "validation_data['Item_Visibility'] = validation_data['Item_Visibility']*100\n",
    "validation_data['Item_Fat_Content'] = validation_data['Item_Fat_Content'].replace({\n",
    "    'low fat': 'Low Fat',\n",
    "    'LF': 'Low Fat',\n",
    "    'reg': 'Regular'\n",
    "})\n",
    "\n",
    "validation_data['Outlet_Size'] = validation_data.apply(impute_outlet_size, axis=1)\n",
    "\n",
    "validation_data['Item_Weight'] = validation_data.groupby('Item_Identifier')['Item_Weight'].transform(lambda x: x.fillna(x.mean()))\n",
    "validation_data['Item_Weight'] = validation_data.groupby('Item_Type')['Item_Weight'].transform(lambda x: x.fillna(x.mean()))\n",
    "validation_data = validation_data.drop([\"Outlet_Establishment_Year\"], axis = 1)\n",
    "\n"
   ]
  },
  {
   "cell_type": "code",
   "execution_count": 13,
   "id": "8164d391",
   "metadata": {},
   "outputs": [
    {
     "data": {
      "text/html": [
       "<div>\n",
       "<style scoped>\n",
       "    .dataframe tbody tr th:only-of-type {\n",
       "        vertical-align: middle;\n",
       "    }\n",
       "\n",
       "    .dataframe tbody tr th {\n",
       "        vertical-align: top;\n",
       "    }\n",
       "\n",
       "    .dataframe thead th {\n",
       "        text-align: right;\n",
       "    }\n",
       "</style>\n",
       "<table border=\"1\" class=\"dataframe\">\n",
       "  <thead>\n",
       "    <tr style=\"text-align: right;\">\n",
       "      <th></th>\n",
       "      <th>Feature Id</th>\n",
       "      <th>Importances</th>\n",
       "    </tr>\n",
       "  </thead>\n",
       "  <tbody>\n",
       "    <tr>\n",
       "      <th>0</th>\n",
       "      <td>Item_MRP</td>\n",
       "      <td>50.967631</td>\n",
       "    </tr>\n",
       "    <tr>\n",
       "      <th>1</th>\n",
       "      <td>Outlet_Identifier</td>\n",
       "      <td>21.753321</td>\n",
       "    </tr>\n",
       "    <tr>\n",
       "      <th>2</th>\n",
       "      <td>Outlet_Type</td>\n",
       "      <td>17.044573</td>\n",
       "    </tr>\n",
       "    <tr>\n",
       "      <th>3</th>\n",
       "      <td>Outlet_Location_Type</td>\n",
       "      <td>2.051171</td>\n",
       "    </tr>\n",
       "    <tr>\n",
       "      <th>4</th>\n",
       "      <td>Outlet_Size</td>\n",
       "      <td>1.990674</td>\n",
       "    </tr>\n",
       "    <tr>\n",
       "      <th>5</th>\n",
       "      <td>Outlet_Age</td>\n",
       "      <td>1.653026</td>\n",
       "    </tr>\n",
       "    <tr>\n",
       "      <th>6</th>\n",
       "      <td>Item_Type</td>\n",
       "      <td>1.602072</td>\n",
       "    </tr>\n",
       "    <tr>\n",
       "      <th>7</th>\n",
       "      <td>Item_Identifier</td>\n",
       "      <td>1.316079</td>\n",
       "    </tr>\n",
       "    <tr>\n",
       "      <th>8</th>\n",
       "      <td>Item_Weight</td>\n",
       "      <td>0.890299</td>\n",
       "    </tr>\n",
       "    <tr>\n",
       "      <th>9</th>\n",
       "      <td>Item_Visibility</td>\n",
       "      <td>0.487684</td>\n",
       "    </tr>\n",
       "    <tr>\n",
       "      <th>10</th>\n",
       "      <td>Item_Fat_Content</td>\n",
       "      <td>0.243470</td>\n",
       "    </tr>\n",
       "  </tbody>\n",
       "</table>\n",
       "</div>"
      ],
      "text/plain": [
       "              Feature Id  Importances\n",
       "0               Item_MRP    50.967631\n",
       "1      Outlet_Identifier    21.753321\n",
       "2            Outlet_Type    17.044573\n",
       "3   Outlet_Location_Type     2.051171\n",
       "4            Outlet_Size     1.990674\n",
       "5             Outlet_Age     1.653026\n",
       "6              Item_Type     1.602072\n",
       "7        Item_Identifier     1.316079\n",
       "8            Item_Weight     0.890299\n",
       "9        Item_Visibility     0.487684\n",
       "10      Item_Fat_Content     0.243470"
      ]
     },
     "execution_count": 13,
     "metadata": {},
     "output_type": "execute_result"
    }
   ],
   "source": [
    "cat_model.get_feature_importance(prettified=True)\n"
   ]
  },
  {
   "cell_type": "markdown",
   "id": "ce3b825b",
   "metadata": {},
   "source": [
    "## Selecting Item_MRP, Outlet_Identifier, Outlet_Type, Outlet_Location_Type for model training"
   ]
  }
 ],
 "metadata": {
  "kernelspec": {
   "display_name": "Python 3",
   "language": "python",
   "name": "python3"
  },
  "language_info": {
   "codemirror_mode": {
    "name": "ipython",
    "version": 3
   },
   "file_extension": ".py",
   "mimetype": "text/x-python",
   "name": "python",
   "nbconvert_exporter": "python",
   "pygments_lexer": "ipython3",
   "version": "3.11.0"
  }
 },
 "nbformat": 4,
 "nbformat_minor": 5
}
